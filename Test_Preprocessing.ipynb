{
  "cells": [
    {
      "cell_type": "code",
      "source": [
        "import kagglehub\n",
        "\n",
        "# Download latest version\n",
        "path = kagglehub.dataset_download(\"kritikseth/fruit-and-vegetable-image-recognition\")\n",
        "\n",
        "print(\"Path to dataset files:\", path)"
      ],
      "metadata": {
        "colab": {
          "base_uri": "https://localhost:8080/"
        },
        "id": "sqPVb8-NzBy1",
        "outputId": "cd065da4-542c-458f-cb1e-535ee9e3d111"
      },
      "id": "sqPVb8-NzBy1",
      "execution_count": 1,
      "outputs": [
        {
          "output_type": "stream",
          "name": "stdout",
          "text": [
            "Warning: Looks like you're using an outdated `kagglehub` version (installed: 0.3.5), please consider upgrading to the latest version (0.3.6).\n",
            "Downloading from https://www.kaggle.com/api/v1/datasets/download/kritikseth/fruit-and-vegetable-image-recognition?dataset_version_number=8...\n"
          ]
        },
        {
          "output_type": "stream",
          "name": "stderr",
          "text": [
            "100%|██████████| 1.98G/1.98G [00:23<00:00, 90.8MB/s]"
          ]
        },
        {
          "output_type": "stream",
          "name": "stdout",
          "text": [
            "Extracting files...\n"
          ]
        },
        {
          "output_type": "stream",
          "name": "stderr",
          "text": [
            "\n"
          ]
        },
        {
          "output_type": "stream",
          "name": "stdout",
          "text": [
            "Path to dataset files: /root/.cache/kagglehub/datasets/kritikseth/fruit-and-vegetable-image-recognition/versions/8\n"
          ]
        }
      ]
    },
    {
      "cell_type": "code",
      "execution_count": 2,
      "id": "e9fb92c8-9ae6-47a5-b46f-988d36f6d4bd",
      "metadata": {
        "colab": {
          "base_uri": "https://localhost:8080/"
        },
        "id": "e9fb92c8-9ae6-47a5-b46f-988d36f6d4bd",
        "outputId": "d99607a1-a836-4618-d87c-5a0b2a90f3fd"
      },
      "outputs": [
        {
          "output_type": "stream",
          "name": "stdout",
          "text": [
            "{'peas': 0, 'apple': 1, 'watermelon': 2, 'jalepeno': 3, 'onion': 4, 'pomegranate': 5, 'paprika': 6, 'soy beans': 7, 'chilli pepper': 8, 'capsicum': 9, 'tomato': 10, 'orange': 11, 'mango': 12, 'cucumber': 13, 'grapes': 14, 'lettuce': 15, 'sweetpotato': 16, 'pineapple': 17, 'garlic': 18, 'carrot': 19, 'pear': 20, 'ginger': 21, 'cabbage': 22, 'beetroot': 23, 'turnip': 24, 'lemon': 25, 'corn': 26, 'raddish': 27, 'potato': 28, 'spinach': 29, 'bell pepper': 30, 'cauliflower': 31, 'banana': 32, 'eggplant': 33, 'kiwi': 34, 'sweetcorn': 35}\n",
            "['peas', 'apple', 'watermelon', 'jalepeno', 'onion', 'pomegranate', 'paprika', 'soy beans', 'chilli pepper', 'capsicum', 'tomato', 'orange', 'mango', 'cucumber', 'grapes', 'lettuce', 'sweetpotato', 'pineapple', 'garlic', 'carrot', 'pear', 'ginger', 'cabbage', 'beetroot', 'turnip', 'lemon', 'corn', 'raddish', 'potato', 'spinach', 'bell pepper', 'cauliflower', 'banana', 'eggplant', 'kiwi', 'sweetcorn']\n",
            "[0, 1, 2, 3, 4, 5, 6, 7, 8, 9, 10, 11, 12, 13, 14, 15, 16, 17, 18, 19, 20, 21, 22, 23, 24, 25, 26, 27, 28, 29, 30, 31, 32, 33, 34, 35]\n"
          ]
        }
      ],
      "source": [
        "import cv2,os\n",
        "\n",
        "data_path = '/root/.cache/kagglehub/datasets/kritikseth/fruit-and-vegetable-image-recognition/versions/8/test'\n",
        "categories =os .listdir(data_path)\n",
        "labels = [i for i in range(len(categories))]\n",
        "\n",
        "label_dict = dict(zip(categories,labels))\n",
        "\n",
        "print(label_dict)\n",
        "print(categories)\n",
        "print(labels)"
      ]
    },
    {
      "cell_type": "code",
      "execution_count": 3,
      "id": "900be625-ce14-47f7-9a5a-efedea805a4b",
      "metadata": {
        "id": "900be625-ce14-47f7-9a5a-efedea805a4b"
      },
      "outputs": [],
      "source": [
        "img_size = 100\n",
        "data = []\n",
        "target = []\n",
        "\n",
        "\n",
        "for category in categories:\n",
        "    folder_path = os.path.join(data_path,category)\n",
        "    img_names = os.listdir(folder_path)\n",
        "\n",
        "    for img_name in img_names:\n",
        "        img_path =os.path.join(folder_path,img_name)\n",
        "        img = cv2.imread(img_path)\n",
        "\n",
        "        try:\n",
        "            gray = cv2.cvtColor(img,cv2.COLOR_BGR2GRAY)\n",
        "            #Coverting the image into gray scale\n",
        "            resized = cv2.resize(gray,(img_size,img_size))\n",
        "            #resizing the gray scale into 100x100, since we need a fixed common size for all the images in the dataset\n",
        "            data.append(resized)\n",
        "            target.append(label_dict[category])\n",
        "            #appending the image and the label(categorized) into the list (dataset)\n",
        "\n",
        "        except Exception as e:\n",
        "            print('Exception:',e)\n",
        "            #if any exception rasied, the exception will be printed here. And pass to the next image"
      ]
    },
    {
      "cell_type": "code",
      "execution_count": 4,
      "id": "7da035a1-7987-450d-809b-00461e8d1853",
      "metadata": {
        "id": "7da035a1-7987-450d-809b-00461e8d1853"
      },
      "outputs": [],
      "source": [
        "import numpy as np\n",
        "\n",
        "data = np.array(data)/255.0\n",
        "data = np.reshape(data,(data.shape[0],img_size,img_size,1))\n",
        "target = np.array(target)\n",
        "\n",
        "from keras.utils import to_categorical\n",
        "\n",
        "new_target = to_categorical(target)"
      ]
    },
    {
      "cell_type": "code",
      "execution_count": 5,
      "id": "1a08007f-802b-4fb5-918c-6b8c0ee8cb9c",
      "metadata": {
        "id": "1a08007f-802b-4fb5-918c-6b8c0ee8cb9c"
      },
      "outputs": [],
      "source": [
        "np.save('test_data',data)\n",
        "np.save('test_target',new_target)"
      ]
    },
    {
      "cell_type": "code",
      "execution_count": null,
      "id": "f0c838cf-580f-4c22-92c4-c152e445909c",
      "metadata": {
        "id": "f0c838cf-580f-4c22-92c4-c152e445909c"
      },
      "outputs": [],
      "source": []
    }
  ],
  "metadata": {
    "kernelspec": {
      "display_name": "Python 3 (ipykernel)",
      "language": "python",
      "name": "python3"
    },
    "language_info": {
      "codemirror_mode": {
        "name": "ipython",
        "version": 3
      },
      "file_extension": ".py",
      "mimetype": "text/x-python",
      "name": "python",
      "nbconvert_exporter": "python",
      "pygments_lexer": "ipython3",
      "version": "3.8.0"
    },
    "colab": {
      "provenance": []
    }
  },
  "nbformat": 4,
  "nbformat_minor": 5
}