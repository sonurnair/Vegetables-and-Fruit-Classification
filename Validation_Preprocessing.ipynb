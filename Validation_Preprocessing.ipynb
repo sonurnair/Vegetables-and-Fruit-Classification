{
  "cells": [
    {
      "cell_type": "code",
      "source": [
        "import kagglehub\n",
        "\n",
        "# Download latest version\n",
        "path = kagglehub.dataset_download(\"kritikseth/fruit-and-vegetable-image-recognition\")\n",
        "\n",
        "print(\"Path to dataset files:\", path)"
      ],
      "metadata": {
        "colab": {
          "base_uri": "https://localhost:8080/"
        },
        "id": "D_UK705F24Ud",
        "outputId": "8ed96c19-dc0b-418a-deb0-42d6dfe44fcd"
      },
      "id": "D_UK705F24Ud",
      "execution_count": 1,
      "outputs": [
        {
          "output_type": "stream",
          "name": "stdout",
          "text": [
            "Warning: Looks like you're using an outdated `kagglehub` version (installed: 0.3.5), please consider upgrading to the latest version (0.3.6).\n",
            "Downloading from https://www.kaggle.com/api/v1/datasets/download/kritikseth/fruit-and-vegetable-image-recognition?dataset_version_number=8...\n"
          ]
        },
        {
          "output_type": "stream",
          "name": "stderr",
          "text": [
            "100%|██████████| 1.98G/1.98G [00:23<00:00, 90.1MB/s]"
          ]
        },
        {
          "output_type": "stream",
          "name": "stdout",
          "text": [
            "Extracting files...\n"
          ]
        },
        {
          "output_type": "stream",
          "name": "stderr",
          "text": [
            "\n"
          ]
        },
        {
          "output_type": "stream",
          "name": "stdout",
          "text": [
            "Path to dataset files: /root/.cache/kagglehub/datasets/kritikseth/fruit-and-vegetable-image-recognition/versions/8\n"
          ]
        }
      ]
    },
    {
      "cell_type": "code",
      "execution_count": 3,
      "id": "26687d2b-2f5c-472e-be93-c521a43944c2",
      "metadata": {
        "colab": {
          "base_uri": "https://localhost:8080/"
        },
        "id": "26687d2b-2f5c-472e-be93-c521a43944c2",
        "outputId": "458f4eb6-d4df-4a65-f9d1-0e577389532f"
      },
      "outputs": [
        {
          "output_type": "stream",
          "name": "stdout",
          "text": [
            "{'peas': 0, 'apple': 1, 'watermelon': 2, 'jalepeno': 3, 'onion': 4, 'pomegranate': 5, 'paprika': 6, 'soy beans': 7, 'chilli pepper': 8, 'capsicum': 9, 'tomato': 10, 'orange': 11, 'mango': 12, 'cucumber': 13, 'grapes': 14, 'lettuce': 15, 'sweetpotato': 16, 'pineapple': 17, 'garlic': 18, 'carrot': 19, 'pear': 20, 'ginger': 21, 'cabbage': 22, 'beetroot': 23, 'turnip': 24, 'lemon': 25, 'corn': 26, 'raddish': 27, 'potato': 28, 'spinach': 29, 'bell pepper': 30, 'cauliflower': 31, 'banana': 32, 'eggplant': 33, 'kiwi': 34, 'sweetcorn': 35}\n",
            "['peas', 'apple', 'watermelon', 'jalepeno', 'onion', 'pomegranate', 'paprika', 'soy beans', 'chilli pepper', 'capsicum', 'tomato', 'orange', 'mango', 'cucumber', 'grapes', 'lettuce', 'sweetpotato', 'pineapple', 'garlic', 'carrot', 'pear', 'ginger', 'cabbage', 'beetroot', 'turnip', 'lemon', 'corn', 'raddish', 'potato', 'spinach', 'bell pepper', 'cauliflower', 'banana', 'eggplant', 'kiwi', 'sweetcorn']\n",
            "[0, 1, 2, 3, 4, 5, 6, 7, 8, 9, 10, 11, 12, 13, 14, 15, 16, 17, 18, 19, 20, 21, 22, 23, 24, 25, 26, 27, 28, 29, 30, 31, 32, 33, 34, 35]\n"
          ]
        }
      ],
      "source": [
        "import cv2,os\n",
        "\n",
        "data_path = '/root/.cache/kagglehub/datasets/kritikseth/fruit-and-vegetable-image-recognition/versions/8/validation'\n",
        "categories =os .listdir(data_path)\n",
        "labels = [i for i in range(len(categories))]\n",
        "\n",
        "label_dict = dict(zip(categories,labels))\n",
        "\n",
        "print(label_dict)\n",
        "print(categories)\n",
        "print(labels)"
      ]
    },
    {
      "cell_type": "code",
      "execution_count": 4,
      "id": "a18e791f-85d4-45ee-8d90-e69f09f6ce58",
      "metadata": {
        "id": "a18e791f-85d4-45ee-8d90-e69f09f6ce58"
      },
      "outputs": [],
      "source": [
        "img_size = 100\n",
        "data = []\n",
        "target = []\n",
        "\n",
        "\n",
        "for category in categories:\n",
        "    folder_path = os.path.join(data_path,category)\n",
        "    img_names = os.listdir(folder_path)\n",
        "\n",
        "    for img_name in img_names:\n",
        "        img_path =os.path.join(folder_path,img_name)\n",
        "        img = cv2.imread(img_path)\n",
        "\n",
        "        try:\n",
        "            gray = cv2.cvtColor(img,cv2.COLOR_BGR2GRAY)\n",
        "            #Coverting the image into gray scale\n",
        "            resized = cv2.resize(gray,(img_size,img_size))\n",
        "            #resizing the gray scale into 100x100, since we need a fixed common size for all the images in the dataset\n",
        "            data.append(resized)\n",
        "            target.append(label_dict[category])\n",
        "            #appending the image and the label(categorized) into the list (dataset)\n",
        "\n",
        "        except Exception as e:\n",
        "            print('Exception:',e)\n",
        "            #if any exception rasied, the exception will be printed here. And pass to the next image"
      ]
    },
    {
      "cell_type": "code",
      "execution_count": 5,
      "id": "1fe25f9b-6150-4112-b519-e9338ef3fd4e",
      "metadata": {
        "id": "1fe25f9b-6150-4112-b519-e9338ef3fd4e"
      },
      "outputs": [],
      "source": [
        "import numpy as np\n",
        "\n",
        "data = np.array(data)/255.0\n",
        "data = np.reshape(data,(data.shape[0],img_size,img_size,1))\n",
        "target = np.array(target)\n",
        "\n",
        "from keras.utils import to_categorical\n",
        "\n",
        "new_target = to_categorical(target)"
      ]
    },
    {
      "cell_type": "code",
      "execution_count": 6,
      "id": "e595152c-213a-4354-a7fd-d9067db54a5a",
      "metadata": {
        "id": "e595152c-213a-4354-a7fd-d9067db54a5a"
      },
      "outputs": [],
      "source": [
        "np.save('validation_data',data)\n",
        "np.save('validation_target',new_target)"
      ]
    },
    {
      "cell_type": "code",
      "execution_count": null,
      "id": "af2fe94c-89f2-4145-a509-d52e884dd9a1",
      "metadata": {
        "id": "af2fe94c-89f2-4145-a509-d52e884dd9a1"
      },
      "outputs": [],
      "source": []
    }
  ],
  "metadata": {
    "kernelspec": {
      "display_name": "Python 3 (ipykernel)",
      "language": "python",
      "name": "python3"
    },
    "language_info": {
      "codemirror_mode": {
        "name": "ipython",
        "version": 3
      },
      "file_extension": ".py",
      "mimetype": "text/x-python",
      "name": "python",
      "nbconvert_exporter": "python",
      "pygments_lexer": "ipython3",
      "version": "3.8.0"
    },
    "colab": {
      "provenance": []
    }
  },
  "nbformat": 4,
  "nbformat_minor": 5
}